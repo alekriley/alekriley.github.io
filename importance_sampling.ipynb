{
  "nbformat": 4,
  "nbformat_minor": 0,
  "metadata": {
    "colab": {
      "name": "Untitled1.ipynb",
      "version": "0.3.2",
      "provenance": [],
      "include_colab_link": true
    },
    "kernelspec": {
      "name": "python3",
      "display_name": "Python 3"
    }
  },
  "cells": [
    {
      "cell_type": "markdown",
      "metadata": {
        "id": "view-in-github",
        "colab_type": "text"
      },
      "source": [
        "<a href=\"https://colab.research.google.com/github/alekriley/alekriley.github.io/blob/master/importance_sampling.ipynb\" target=\"_parent\"><img src=\"https://colab.research.google.com/assets/colab-badge.svg\" alt=\"Open In Colab\"/></a>"
      ]
    },
    {
      "metadata": {
        "id": "GG9eH0OQSY3Q",
        "colab_type": "text"
      },
      "cell_type": "markdown",
      "source": [
        "# Primer on Basic MonteCarlo Method\n",
        "We can approximate the function of a random variable using an average of the function computed over all samples.\n",
        "> $ E[f(x)]\\approx\\frac{1}{M}\\sum_{m=1}^M f(x^{(m)})$ for samples $x^{(1)},x^{(2)},\\dots,x^{(M)}$\n",
        "\n",
        "In the same way we can approximate the variance of $f(x)$.\n",
        ">  $ Var[f(x)]\\approx\\frac{1}{M-1}\\sum_{m=1}^M [f(x^{(m)})-u_f]^2$ for samples $x^{(1)},x^{(2)},\\dots,x^{(M)}$ with $u_f = \\hat E[f(x)]$."
      ]
    },
    {
      "metadata": {
        "id": "vHfu2BWKT3Pp",
        "colab_type": "text"
      },
      "cell_type": "markdown",
      "source": [
        "# The Idea of Importance Sampling\n",
        "\n",
        "Consider the expectation of any function of random variable.\n",
        "\n",
        "> $$E[f(x)]=\\int_x f(x)p(x)dx$$ \n",
        "\n",
        "where $p(x)$ is the probability density function corresponding to the random variable x. \n",
        "That is, we are taking the expectation with respect to $p(x)$. Notice however that we can easily do the following.\n",
        "> $$E[f(x)]=\\int_x q(x)f(x)\\frac{p(x)}{q(x)}dx=E_{q(x)}\\left[f(x)\\frac{p(x)}{q(x)}\\right]$$\n",
        "\n",
        "We can express the expectation of $f(x)$ with respect to a probability distribution $q(x)$."
      ]
    },
    {
      "metadata": {
        "id": "gvlmHNTCSUzh",
        "colab_type": "code",
        "colab": {}
      },
      "cell_type": "code",
      "source": [
        ""
      ],
      "execution_count": 0,
      "outputs": []
    }
  ]
}